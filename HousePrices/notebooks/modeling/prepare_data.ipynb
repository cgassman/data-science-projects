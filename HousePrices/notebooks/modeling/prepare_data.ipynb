{
 "cells": [
  {
   "cell_type": "markdown",
   "metadata": {},
   "source": [
    "# Prepare original data for sequent analysis steps"
   ]
  },
  {
   "cell_type": "markdown",
   "metadata": {},
   "source": [
    "### Relevant imports and data load"
   ]
  },
  {
   "cell_type": "code",
   "execution_count": 1,
   "metadata": {
    "collapsed": true
   },
   "outputs": [],
   "source": [
    "import pandas as pd"
   ]
  },
  {
   "cell_type": "code",
   "execution_count": 2,
   "metadata": {
    "collapsed": true
   },
   "outputs": [],
   "source": [
    "train_data = pd.read_csv('../data/train.csv', sep=',', header=0)"
   ]
  },
  {
   "cell_type": "markdown",
   "metadata": {},
   "source": [
    "### Prepare data analysis sheet"
   ]
  },
  {
   "cell_type": "code",
   "execution_count": null,
   "metadata": {
    "collapsed": true
   },
   "outputs": [],
   "source": [
    "attributes = list(train_data.columns.values)\n",
    "attr_types = list(train_data.dtypes)\n",
    "missing_val = list(train_data.isnull().sum()/train_data.isnull().count()*100)\n",
    "\n",
    "overview = pd.DataFrame({\"AttributeNames\": attributes,\n",
    "                         \"DataType\": attr_types,\n",
    "                         \"VarType\": \"\",\n",
    "                         \"MissingDataPerc\": missing_val,\n",
    "                         \"Outliers\": \"\",\n",
    "                         \"Normality\":\"\",\n",
    "                         \"Homoscedasticity\":\"\",\n",
    "                         \"Linearity\":\"\",\n",
    "                         \"IndependenceErrors\":\"\",\n",
    "                         \"Expectation\": \"\",\n",
    "                         \"Conclusion\": \"\",\n",
    "                         \"ExampleValues\": \"\",\n",
    "                         \"Comments\": \"\"})\n",
    "\n",
    "overview.to_csv(\"../output/overview.csv\", columns=[\"AttributeNames\",\n",
    "                                                   \"DataType\", \"VarType\",\n",
    "                                                   \"MissingDataPerc\",\n",
    "                                                   \"Outliers\",\n",
    "                                                   \"Normality\",\n",
    "                                                   \"Homoscedasticity\",\n",
    "                                                   \"Linearity\",\n",
    "                                                   \"IndependenceErrors\",\n",
    "                                                   \"Expectation\",\n",
    "                                                   \"Conclusion\",\n",
    "                                                   \"ExampleValues\"\n",
    "                                                   \"Comments\"],\n",
    "                header=True, index=False, float_format='%.0f%%')"
   ]
  },
  {
   "cell_type": "markdown",
   "metadata": {},
   "source": [
    "integrate the overview.csv into the overall DataInspection.xlsx, which contains \n",
    "- Traindata sheet, wich is the train_data \n",
    "- Dictionary sheet, which is the overview part "
   ]
  },
  {
   "cell_type": "code",
   "execution_count": null,
   "metadata": {
    "collapsed": true
   },
   "outputs": [],
   "source": []
  }
 ],
 "metadata": {
  "kernelspec": {
   "display_name": "Python 3",
   "language": "python",
   "name": "python3"
  },
  "language_info": {
   "codemirror_mode": {
    "name": "ipython",
    "version": 3
   },
   "file_extension": ".py",
   "mimetype": "text/x-python",
   "name": "python",
   "nbconvert_exporter": "python",
   "pygments_lexer": "ipython3",
   "version": "3.6.0"
  }
 },
 "nbformat": 4,
 "nbformat_minor": 2
}
