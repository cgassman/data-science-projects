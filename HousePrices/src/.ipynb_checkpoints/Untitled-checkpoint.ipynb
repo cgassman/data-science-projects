{
 "cells": [
  {
   "cell_type": "code",
   "execution_count": 186,
   "metadata": {
    "collapsed": true
   },
   "outputs": [],
   "source": [
    "import numpy as np\n",
    "import scipy as sp\n",
    "import matplotlib as mpl\n",
    "import matplotlib.pyplot as plt\n",
    "from matplotlib.patches import Ellipse\n",
    "\n",
    "%matplotlib inline"
   ]
  },
  {
   "cell_type": "code",
   "execution_count": 204,
   "metadata": {
    "collapsed": true
   },
   "outputs": [],
   "source": [
    "def ellipse_coord(cov_matrix):\n",
    "    \n",
    "    #Sx = cov_matrix.cov().values\n",
    "    Sx = np.linalg.inv(cov_matrix)\n",
    "    \n",
    "    eig_values, eig_vectors = np.linalg.eig(cov_matrix)\n",
    "    \n",
    "    return eig_values, eig_vectors"
   ]
  },
  {
   "cell_type": "code",
   "execution_count": 205,
   "metadata": {
    "collapsed": true
   },
   "outputs": [],
   "source": [
    "x = np.array([3,7,2,5])\n",
    "y = np.array([2,9,1,4])"
   ]
  },
  {
   "cell_type": "code",
   "execution_count": 206,
   "metadata": {
    "collapsed": true
   },
   "outputs": [],
   "source": [
    "x_mean = x.mean()\n",
    "y_mean = y.mean()\n",
    "center_dataset = (x_mean, y_mean)"
   ]
  },
  {
   "cell_type": "code",
   "execution_count": 207,
   "metadata": {
    "collapsed": false
   },
   "outputs": [],
   "source": [
    "cov_xy = np.cov(x,y)"
   ]
  },
  {
   "cell_type": "code",
   "execution_count": 208,
   "metadata": {
    "collapsed": false
   },
   "outputs": [],
   "source": [
    "center_ellipse = center_dataset\n",
    "eig_values, eig_vectors = ellipse_coord(cov_xy)\n",
    "width_ellipse = eig_values[0] * 2 * np.sqrt(5.991)\n",
    "height_ellipse = eig_values[1] * 2 * np.sqrt(5.991)\n",
    "angle_ellipse = (np.arctan(eig_vectors[0][0]/eig_vectors[0][1]))*180/np.pi\n",
    "ellipse = Ellipse(xy=center_ellipse, width=width_ellipse, height=height_ellipse, angle= angle_ellipse,\n",
    "                  edgecolor='r', fc='None', lw=2)"
   ]
  },
  {
   "cell_type": "code",
   "execution_count": 217,
   "metadata": {
    "collapsed": false
   },
   "outputs": [
    {
     "name": "stdout",
     "output_type": "stream",
     "text": [
      "[ 17.38197532   0.20135801]\n"
     ]
    }
   ],
   "source": [
    "print(np.sort(eig_values)[::-1])"
   ]
  },
  {
   "cell_type": "code",
   "execution_count": 218,
   "metadata": {
    "collapsed": false
   },
   "outputs": [
    {
     "name": "stdout",
     "output_type": "stream",
     "text": [
      "[[-0.85178921  0.52388466]\n",
      " [-0.85178921 -0.52388466]]\n"
     ]
    }
   ],
   "source": [
    "print(np.sort(eig_vectors, axis=1)[::-1])"
   ]
  },
  {
   "cell_type": "code",
   "execution_count": 211,
   "metadata": {
    "collapsed": false
   },
   "outputs": [
    {
     "name": "stdout",
     "output_type": "stream",
     "text": [
      "58.4068106646\n"
     ]
    }
   ],
   "source": [
    "print(angle_ellipse)"
   ]
  },
  {
   "cell_type": "code",
   "execution_count": 212,
   "metadata": {
    "collapsed": false
   },
   "outputs": [
    {
     "data": {
      "text/plain": [
       "<matplotlib.patches.Ellipse at 0x1174d4f28>"
      ]
     },
     "execution_count": 212,
     "metadata": {},
     "output_type": "execute_result"
    },
    {
     "data": {
      "image/png": "[encoded data removed]",
      "text/plain": [
       "<matplotlib.figure.Figure at 0x1177f2278>"
      ]
     },
     "metadata": {},
     "output_type": "display_data"
    }
   ],
   "source": [
    "plt.figure()\n",
    "ax = plt.gca()\n",
    "\n",
    "plt.scatter(x,y)\n",
    "plt.plot(center_dataset[0],center_dataset[1],'ro')\n",
    "\n",
    "ax.add_patch(ellipse)"
   ]
  },
  {
   "cell_type": "code",
   "execution_count": null,
   "metadata": {
    "collapsed": true
   },
   "outputs": [],
   "source": []
  }
 ],
 "metadata": {
  "kernelspec": {
   "display_name": "Python 3",
   "language": "python",
   "name": "python3"
  },
  "language_info": {
   "codemirror_mode": {
    "name": "ipython",
    "version": 3
   },
   "file_extension": ".py",
   "mimetype": "text/x-python",
   "name": "python",
   "nbconvert_exporter": "python",
   "pygments_lexer": "ipython3",
   "version": "3.6.0"
  }
 },
 "nbformat": 4,
 "nbformat_minor": 2
}
