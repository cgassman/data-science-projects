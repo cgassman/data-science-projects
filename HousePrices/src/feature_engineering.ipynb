{
 "cells": [
  {
   "cell_type": "markdown",
   "metadata": {},
   "source": [
    "# Feature Engineering"
   ]
  },
  {
   "cell_type": "markdown",
   "metadata": {},
   "source": [
    "Analyze correlation between SalePrice and:\n",
    "- Alley\n",
    "- Fireplaces\n",
    "- PoolArea\n",
    "- Fence\n",
    "- MiscFeature  \n",
    "\n",
    "Is there a correlation visible that if quality or size etc. increases also SalePrice increases?\n",
    "if correlation is high, keep original value.\n",
    "if correlation is low or medium, replace original value with a binary feature yes / no. "
   ]
  },
  {
   "cell_type": "code",
   "execution_count": null,
   "metadata": {
    "collapsed": true
   },
   "outputs": [],
   "source": []
  }
 ],
 "metadata": {
  "kernelspec": {
   "display_name": "Python 3",
   "language": "python",
   "name": "python3"
  },
  "language_info": {
   "codemirror_mode": {
    "name": "ipython",
    "version": 3
   },
   "file_extension": ".py",
   "mimetype": "text/x-python",
   "name": "python",
   "nbconvert_exporter": "python",
   "pygments_lexer": "ipython3",
   "version": "3.6.0"
  }
 },
 "nbformat": 4,
 "nbformat_minor": 2
}
