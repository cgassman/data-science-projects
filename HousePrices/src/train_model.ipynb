{
 "cells": [
  {
   "cell_type": "markdown",
   "metadata": {},
   "source": [
    "### Relevant imports and data load"
   ]
  },
  {
   "cell_type": "code",
   "execution_count": 1,
   "metadata": {
    "collapsed": true
   },
   "outputs": [],
   "source": [
    "import pandas as pd\n",
    "import numpy as np\n",
    "import seaborn as sns\n",
    "import matplotlib.pyplot as plt\n",
    "\n",
    "from scipy import stats\n",
    "\n",
    "from sklearn.preprocessing import StandardScaler\n",
    "from sklearn.preprocessing import Normalizer\n",
    "\n",
    "from sklearn.ensemble import RandomForestRegressor\n",
    "from sklearn.svm import SVR\n",
    "from sklearn.svm import NuSVR\n",
    "from sklearn.svm import LinearSVR\n",
    "from sklearn.tree import DecisionTreeRegressor\n",
    "from sklearn.linear_model import LinearRegression\n",
    "from sklearn.linear_model import Lasso\n",
    "from sklearn.linear_model import ElasticNet\n",
    "from sklearn.linear_model import Ridge\n",
    "\n",
    "from sklearn.model_selection import train_test_split\n",
    "\n",
    "from sklearn.metrics import mean_squared_error\n",
    "from math import sqrt\n",
    "\n",
    "%matplotlib inline"
   ]
  },
  {
   "cell_type": "code",
   "execution_count": 3,
   "metadata": {
    "collapsed": false
   },
   "outputs": [],
   "source": [
    "# load data which is stored in the /data folder of the project\n",
    "train_data = pd.read_csv('../data/train_filled_up.csv', sep=',', header=0)\n",
    "test_data = pd.read_csv('../data/test_filled_up.csv', sep=',', header=0)\n",
    "\n",
    "target_variable = train_data[\"SalePrice\"]"
   ]
  },
  {
   "cell_type": "markdown",
   "metadata": {},
   "source": [
    "### train model on quantitative (numeric) values only"
   ]
  },
  {
   "cell_type": "code",
   "execution_count": 8,
   "metadata": {
    "collapsed": true
   },
   "outputs": [],
   "source": [
    "quantitative_features = [\"LotFrontage\", \"LotArea\", \"BsmtFinSF1\", \"BsmtFinSF2\", \"BsmtUnfSF\", \"TotalBsmtSF\", \"2ndFlrSF\",\n",
    "                        \"TotalBsmtSF\", \"2ndFlrSF\", \"LowQualFinSF\", \"GrLivArea\", \"BsmtFullBath\", \"BsmtHalfBath\", \"FullBath\",\n",
    "                        \"HalfBath\", \"BedroomAbvGr\", \"KitchenAbvGr\", \"Fireplaces\", \"GarageCars\", \"WoodDeckSF\", \"OpenPorchSF\",\n",
    "                        \"EnclosedPorch\", \"3SsnPorch\", \"ScreenPorch\", \"PoolArea\", \"MiscVal\"]"
   ]
  },
  {
   "cell_type": "code",
   "execution_count": 4,
   "metadata": {
    "collapsed": true
   },
   "outputs": [],
   "source": [
    "# list of all quantitative, numeric features, that have not been deleted due to their analysis\n",
    "selected_num_columns = ['LotFrontage', 'LotArea', 'BsmtFinSF1', 'BsmtUnfSF', 'TotalBsmtSF', '2ndFlrSF', 'GrLivArea',\n",
    "               'BsmtFullBath', 'FullBath', 'HalfBath', 'BedroomAbvGr', 'KitchenAbvGr', 'Fireplaces', 'GarageCars',\n",
    "               'WoodDeckSF', 'OpenPorchSF', 'EnclosedPorch', 'ScreenPorch', 'PoolArea', 'MiscVal']"
   ]
  },
  {
   "cell_type": "code",
   "execution_count": 9,
   "metadata": {
    "collapsed": false
   },
   "outputs": [],
   "source": [
    "train_quantitative_features = train_data.loc[:, train_data.columns.isin(quantitative_features)]"
   ]
  },
  {
   "cell_type": "code",
   "execution_count": 10,
   "metadata": {
    "collapsed": true
   },
   "outputs": [],
   "source": [
    "X_train, X_valid, y_train, y_valid = train_test_split(train_quantitative_features,\n",
    "                                                      target_variable, test_size=0.2, random_state=0)"
   ]
  },
  {
   "cell_type": "code",
   "execution_count": 11,
   "metadata": {
    "collapsed": false
   },
   "outputs": [
    {
     "name": "stdout",
     "output_type": "stream",
     "text": [
      "==============================\n",
      "RandomForestRegressor\n",
      "Root mean squared error: 31197.165160176726\n",
      "Score: 0.8398719576036158\n",
      "==============================\n",
      "DecisionTreeRegressor\n",
      "Root mean squared error: 43309.52940134253\n",
      "Score: 0.6913942173796107\n",
      "==============================\n",
      "LinearRegression\n",
      "Root mean squared error: 36729.009531807664\n",
      "Score: 0.7780497881329239\n",
      "==============================\n",
      "Lasso\n",
      "Root mean squared error: 36728.06782839031\n",
      "Score: 0.7780611692508043\n",
      "==============================\n",
      "ElasticNet\n",
      "Root mean squared error: 37834.89026561382\n",
      "Score: 0.7644830939212444\n",
      "==============================\n",
      "Ridge\n",
      "Root mean squared error: 36685.49816192902\n",
      "Score: 0.778575347495724\n",
      "==============================\n",
      "SVR\n"
     ]
    },
    {
     "name": "stderr",
     "output_type": "stream",
     "text": [
      "/Applications/anaconda/lib/python3.6/site-packages/sklearn/linear_model/coordinate_descent.py:484: ConvergenceWarning: Objective did not converge. You might want to increase the number of iterations. Fitting data with very small alpha may cause precision problems.\n",
      "  ConvergenceWarning)\n"
     ]
    },
    {
     "name": "stdout",
     "output_type": "stream",
     "text": [
      "Root mean squared error: 79200.80044291327\n",
      "Score: -0.03203938599815448\n",
      "==============================\n",
      "NuSVR\n",
      "Root mean squared error: 78155.08555421587\n",
      "Score: -0.004966571084560779\n",
      "==============================\n",
      "LinearSVR\n",
      "Root mean squared error: 40518.61520534959\n",
      "Score: 0.7298864825278706\n",
      "==============================\n"
     ]
    }
   ],
   "source": [
    "reg_models = [RandomForestRegressor(n_estimators=300),\n",
    "              DecisionTreeRegressor(),\n",
    "              LinearRegression(),\n",
    "              Lasso(),\n",
    "              ElasticNet(),\n",
    "              Ridge(alpha=2.5),\n",
    "              SVR(),\n",
    "              NuSVR(),\n",
    "              LinearSVR()]\n",
    "\n",
    "log_cols = [\"RegressionModel\", \"RMSE\", \"Score\"]\n",
    "log = pd.DataFrame(columns=log_cols)\n",
    "\n",
    "for reg in reg_models:\n",
    "    reg.fit(X_train, y_train)\n",
    "\n",
    "    name = reg.__class__.__name__\n",
    "\n",
    "    print(\"=\" * 30)\n",
    "    print(name)\n",
    "\n",
    "    train_predictions = reg.predict(X_valid)\n",
    "    rmse = sqrt(mean_squared_error(y_valid, train_predictions))\n",
    "    print(\"Root mean squared error: {}\".format(rmse))\n",
    "    \n",
    "    score = reg.score(X_valid, y_valid)\n",
    "    print(\"Score: {}\".format(score))\n",
    "\n",
    "    log_entry = pd.DataFrame([[name, rmse, score]], columns=log_cols)\n",
    "    log = log.append(log_entry)\n",
    "\n",
    "print(\"=\"*30)"
   ]
  },
  {
   "cell_type": "markdown",
   "metadata": {},
   "source": [
    "### train model on transformed quantitative features (where useful)\n",
    "\n",
    "usefulness is decided based on analyze_data outcome for individual features. \n",
    "Transformation back shouldn't be forgotten after the prediction."
   ]
  },
  {
   "cell_type": "code",
   "execution_count": 11,
   "metadata": {
    "collapsed": true
   },
   "outputs": [],
   "source": [
    "transformed_target_variable = np.log(target_variable)"
   ]
  },
  {
   "cell_type": "code",
   "execution_count": null,
   "metadata": {
    "collapsed": true
   },
   "outputs": [],
   "source": []
  },
  {
   "cell_type": "code",
   "execution_count": null,
   "metadata": {
    "collapsed": true
   },
   "outputs": [],
   "source": []
  },
  {
   "cell_type": "code",
   "execution_count": null,
   "metadata": {
    "collapsed": true
   },
   "outputs": [],
   "source": []
  },
  {
   "cell_type": "code",
   "execution_count": null,
   "metadata": {
    "collapsed": true
   },
   "outputs": [],
   "source": [
    "X_train, X_valid, y_train, y_valid = train_test_split(train_quantitative_transformed_features,\n",
    "                                                      transformed_target_variable, test_size=0.2, random_state=0)"
   ]
  },
  {
   "cell_type": "code",
   "execution_count": null,
   "metadata": {
    "collapsed": true
   },
   "outputs": [],
   "source": [
    "reg_models = [RandomForestRegressor(n_estimators=300),\n",
    "              DecisionTreeRegressor(),\n",
    "              LinearRegression(),\n",
    "              Lasso(),\n",
    "              ElasticNet(),\n",
    "              Ridge(alpha=2.5),\n",
    "              SVR(),\n",
    "              NuSVR(),\n",
    "              LinearSVR()]\n",
    "\n",
    "log_cols = [\"RegressionModel\", \"RMSE\", \"Score\"]\n",
    "log = pd.DataFrame(columns=log_cols)\n",
    "\n",
    "for reg in reg_models:\n",
    "    reg.fit(X_train, y_train)\n",
    "\n",
    "    name = reg.__class__.__name__\n",
    "\n",
    "    print(\"=\" * 30)\n",
    "    print(name)\n",
    "\n",
    "    predictions = reg.predict(X_valid)\n",
    "    rmse = sqrt(mean_squared_error(y_valid, predictions))\n",
    "    print(\"Root mean squared error: {}\".format(rmse))\n",
    "    \n",
    "    score = reg.score(X_valid, y_valid)\n",
    "    print(\"Score: {}\".format(score))\n",
    "\n",
    "    log_entry = pd.DataFrame([[name, rmse, score]], columns=log_cols)\n",
    "    log = log.append(log_entry)\n",
    "\n",
    "print(\"=\"*30)"
   ]
  },
  {
   "cell_type": "code",
   "execution_count": null,
   "metadata": {
    "collapsed": true
   },
   "outputs": [],
   "source": [
    "final_predictions = np.exp(predictions)"
   ]
  },
  {
   "cell_type": "markdown",
   "metadata": {},
   "source": [
    "### train model"
   ]
  },
  {
   "cell_type": "code",
   "execution_count": 24,
   "metadata": {
    "collapsed": false
   },
   "outputs": [],
   "source": [
    "train_dummies = train_dummies.drop(['Id'], axis=1)"
   ]
  },
  {
   "cell_type": "code",
   "execution_count": 25,
   "metadata": {
    "collapsed": true
   },
   "outputs": [],
   "source": [
    "X_train, X_valid, y_train, y_valid = train_test_split(train_dummies, target_variable, test_size=0.2, random_state=0)"
   ]
  },
  {
   "cell_type": "code",
   "execution_count": 26,
   "metadata": {
    "collapsed": false
   },
   "outputs": [
    {
     "name": "stdout",
     "output_type": "stream",
     "text": [
      "==============================\n",
      "RandomForestRegressor\n",
      "Root mean squared error: 32844.43694626833\n",
      "Score: 0.8437908376318094\n",
      "==============================\n",
      "DecisionTreeRegressor\n",
      "Root mean squared error: 40507.94309609798\n",
      "Score: 0.7623908045454512\n",
      "==============================\n",
      "LinearRegression\n",
      "Root mean squared error: 54780.61989222654\n",
      "Score: 0.5654530099236519\n"
     ]
    },
    {
     "name": "stderr",
     "output_type": "stream",
     "text": [
      "/Users/claudine/anaconda/lib/python3.5/site-packages/sklearn/linear_model/coordinate_descent.py:484: ConvergenceWarning: Objective did not converge. You might want to increase the number of iterations. Fitting data with very small alpha may cause precision problems.\n",
      "  ConvergenceWarning)\n"
     ]
    },
    {
     "name": "stdout",
     "output_type": "stream",
     "text": [
      "==============================\n",
      "Lasso\n",
      "Root mean squared error: 53479.31327065549\n",
      "Score: 0.5858530140665199\n",
      "==============================\n",
      "ElasticNet\n",
      "Root mean squared error: 50689.86456913379\n",
      "Score: 0.6279295983216646\n",
      "==============================\n",
      "Ridge\n",
      "Root mean squared error: 45995.969883387144\n",
      "Score: 0.6936467985054584\n",
      "==============================\n",
      "SVR\n",
      "Root mean squared error: 85107.82593096742\n",
      "Score: -0.04887046090654246\n",
      "==============================\n",
      "NuSVR\n",
      "Root mean squared error: 83573.52824369336\n",
      "Score: -0.011393913784108811\n",
      "==============================\n",
      "LinearSVR\n",
      "Root mean squared error: 118573.85166649462\n",
      "Score: -1.0359200347985738\n",
      "==============================\n"
     ]
    }
   ],
   "source": [
    "reg_models = [RandomForestRegressor(n_estimators=300),\n",
    "              DecisionTreeRegressor(),\n",
    "              LinearRegression(),\n",
    "              Lasso(),\n",
    "              ElasticNet(),\n",
    "              Ridge(alpha=2.5),\n",
    "              SVR(),\n",
    "              NuSVR(),\n",
    "              LinearSVR()]\n",
    "\n",
    "log_cols = [\"RegressionModel\", \"RMSE\", \"Score\"]\n",
    "log = pd.DataFrame(columns=log_cols)\n",
    "\n",
    "for reg in reg_models:\n",
    "    reg.fit(X_train, y_train)\n",
    "\n",
    "    name = reg.__class__.__name__\n",
    "\n",
    "    print(\"=\" * 30)\n",
    "    print(name)\n",
    "\n",
    "    train_predictions = reg.predict(X_valid)\n",
    "    rmse = sqrt(mean_squared_error(y_valid, train_predictions))\n",
    "    print(\"Root mean squared error: {}\".format(rmse))\n",
    "    \n",
    "    score = reg.score(X_valid, y_valid)\n",
    "    print(\"Score: {}\".format(score))\n",
    "\n",
    "    log_entry = pd.DataFrame([[name, rmse, score]], columns=log_cols)\n",
    "    log = log.append(log_entry)\n",
    "\n",
    "print(\"=\"*30)"
   ]
  },
  {
   "cell_type": "code",
   "execution_count": 27,
   "metadata": {
    "collapsed": false
   },
   "outputs": [
    {
     "data": {
      "text/plain": [
       "RandomForestRegressor(bootstrap=True, criterion='mse', max_depth=None,\n",
       "           max_features='auto', max_leaf_nodes=None,\n",
       "           min_impurity_split=1e-07, min_samples_leaf=1,\n",
       "           min_samples_split=2, min_weight_fraction_leaf=0.0,\n",
       "           n_estimators=200, n_jobs=1, oob_score=False, random_state=None,\n",
       "           verbose=0, warm_start=False)"
      ]
     },
     "execution_count": 27,
     "metadata": {},
     "output_type": "execute_result"
    }
   ],
   "source": [
    "# train best model for prediction of test data\n",
    "rf_reg = RandomForestRegressor(n_estimators=200)\n",
    "rf_reg.fit(X_train, y_train)"
   ]
  },
  {
   "cell_type": "markdown",
   "metadata": {},
   "source": [
    "### predict for submission"
   ]
  },
  {
   "cell_type": "code",
   "execution_count": 14,
   "metadata": {
    "collapsed": false,
    "scrolled": false
   },
   "outputs": [],
   "source": [
    "test_ids = test_dummies['Id']\n",
    "test_dummies = test_dummies.drop(['Id'], axis=1)"
   ]
  },
  {
   "cell_type": "code",
   "execution_count": null,
   "metadata": {
    "collapsed": true
   },
   "outputs": [],
   "source": []
  },
  {
   "cell_type": "code",
   "execution_count": null,
   "metadata": {
    "collapsed": true
   },
   "outputs": [],
   "source": []
  },
  {
   "cell_type": "code",
   "execution_count": null,
   "metadata": {
    "collapsed": true
   },
   "outputs": [],
   "source": []
  },
  {
   "cell_type": "code",
   "execution_count": 18,
   "metadata": {
    "collapsed": false
   },
   "outputs": [],
   "source": [
    "predictions = rf_reg.predict(dummies_test)\n",
    "\n",
    "# prepare submission as outlined in the submission_sample from Kaggle\n",
    "submission = pd.DataFrame({\"Id\": test_ids,\"SalePrice\": predictions})"
   ]
  },
  {
   "cell_type": "code",
   "execution_count": 19,
   "metadata": {
    "collapsed": true
   },
   "outputs": [],
   "source": [
    "submission.to_csv(\"../data/submission.csv\", index=False)"
   ]
  },
  {
   "cell_type": "code",
   "execution_count": null,
   "metadata": {
    "collapsed": true
   },
   "outputs": [],
   "source": []
  }
 ],
 "metadata": {
  "kernelspec": {
   "display_name": "Python 3",
   "language": "python",
   "name": "python3"
  },
  "language_info": {
   "codemirror_mode": {
    "name": "ipython",
    "version": 3
   },
   "file_extension": ".py",
   "mimetype": "text/x-python",
   "name": "python",
   "nbconvert_exporter": "python",
   "pygments_lexer": "ipython3",
   "version": "3.6.0"
  }
 },
 "nbformat": 4,
 "nbformat_minor": 2
}
