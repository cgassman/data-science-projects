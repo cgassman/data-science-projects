{
 "cells": [
  {
   "cell_type": "code",
   "execution_count": 368,
   "metadata": {
    "collapsed": true
   },
   "outputs": [],
   "source": [
    "import numpy as np\n",
    "import scipy as sp\n",
    "import math\n",
    "import matplotlib as mpl\n",
    "import matplotlib.pyplot as plt\n",
    "from matplotlib.patches import Ellipse\n",
    "\n",
    "%matplotlib inline"
   ]
  },
  {
   "cell_type": "code",
   "execution_count": 369,
   "metadata": {
    "collapsed": true
   },
   "outputs": [],
   "source": [
    "def ellipse_coord(cov_matrix):\n",
    "    \n",
    "    #Sx = cov_matrix.cov().values\n",
    "    #Sx = np.linalg.inv(cov_matrix)\n",
    "    \n",
    "    eig_values, eig_vectors = np.linalg.eig(cov_matrix)\n",
    "    eig_vectors = np.matrix.transpose(eig_vectors)\n",
    "    \n",
    "    return eig_values, eig_vectors"
   ]
  },
  {
   "cell_type": "code",
   "execution_count": 370,
   "metadata": {
    "collapsed": true
   },
   "outputs": [],
   "source": [
    "x = np.array([3,7,2,5])\n",
    "y = np.array([2,9,1,4])"
   ]
  },
  {
   "cell_type": "code",
   "execution_count": 371,
   "metadata": {
    "collapsed": true
   },
   "outputs": [],
   "source": [
    "x_mean = x.mean()\n",
    "y_mean = y.mean()\n",
    "center_dataset = (x_mean, y_mean)"
   ]
  },
  {
   "cell_type": "code",
   "execution_count": 372,
   "metadata": {
    "collapsed": false
   },
   "outputs": [],
   "source": [
    "cov_xy = np.cov(x,y)"
   ]
  },
  {
   "cell_type": "code",
   "execution_count": 373,
   "metadata": {
    "collapsed": true
   },
   "outputs": [],
   "source": [
    "x_var = x.var()\n",
    "y_var = y.var()"
   ]
  },
  {
   "cell_type": "code",
   "execution_count": 379,
   "metadata": {
    "collapsed": false
   },
   "outputs": [],
   "source": [
    "center_ellipse = center_dataset\n",
    "eig_values, eig_vectors = ellipse_coord(cov_xy)\n",
    "\n",
    "width_ellipse = 2*(math.sqrt(eig_values[0] * 5.991))\n",
    "height_ellipse = 2*(math.sqrt(eig_values[1] * 5.991))\n",
    "angle_ellipse = (np.arctan(eig_vectors[0][1]/eig_vectors[1][1]))*180/np.pi\n",
    "\n",
    "ellipse = Ellipse(xy=center_ellipse, width=width_ellipse, height=height_ellipse, angle= angle_ellipse,\n",
    "                  edgecolor='r', fc='None', lw=2)"
   ]
  },
  {
   "cell_type": "code",
   "execution_count": 380,
   "metadata": {
    "collapsed": false
   },
   "outputs": [
    {
     "name": "stdout",
     "output_type": "stream",
     "text": [
      "[  0.20135801  17.38197532]\n"
     ]
    }
   ],
   "source": [
    "print(eig_values)"
   ]
  },
  {
   "cell_type": "code",
   "execution_count": 381,
   "metadata": {
    "collapsed": false
   },
   "outputs": [
    {
     "name": "stdout",
     "output_type": "stream",
     "text": [
      "[[-0.85178921  0.52388466]\n",
      " [-0.52388466 -0.85178921]]\n"
     ]
    }
   ],
   "source": [
    "print(eig_vectors)"
   ]
  },
  {
   "cell_type": "code",
   "execution_count": 382,
   "metadata": {
    "collapsed": false
   },
   "outputs": [
    {
     "name": "stdout",
     "output_type": "stream",
     "text": [
      "-31.5931893354\n"
     ]
    }
   ],
   "source": [
    "print(angle_ellipse)"
   ]
  },
  {
   "cell_type": "code",
   "execution_count": 383,
   "metadata": {
    "collapsed": false
   },
   "outputs": [
    {
     "data": {
      "text/plain": [
       "<matplotlib.patches.Ellipse at 0x11935da90>"
      ]
     },
     "execution_count": 383,
     "metadata": {},
     "output_type": "execute_result"
    },
    {
     "data": {
      "image/png": "[encoded data removed]",
      "text/plain": [
       "<matplotlib.figure.Figure at 0x11936b390>"
      ]
     },
     "metadata": {},
     "output_type": "display_data"
    }
   ],
   "source": [
    "plt.figure()\n",
    "ax = plt.gca()\n",
    "\n",
    "plt.scatter(x,y)\n",
    "plt.plot(center_dataset[0],center_dataset[1],'ro')\n",
    "\n",
    "ax.add_patch(ellipse)"
   ]
  },
  {
   "cell_type": "code",
   "execution_count": null,
   "metadata": {
    "collapsed": true
   },
   "outputs": [],
   "source": []
  }
 ],
 "metadata": {
  "kernelspec": {
   "display_name": "Python 3",
   "language": "python",
   "name": "python3"
  },
  "language_info": {
   "codemirror_mode": {
    "name": "ipython",
    "version": 3
   },
   "file_extension": ".py",
   "mimetype": "text/x-python",
   "name": "python",
   "nbconvert_exporter": "python",
   "pygments_lexer": "ipython3",
   "version": "3.6.0"
  }
 },
 "nbformat": 4,
 "nbformat_minor": 2
}
